{
  "nbformat": 4,
  "nbformat_minor": 0,
  "metadata": {
    "colab": {
      "provenance": [],
      "authorship_tag": "ABX9TyPYoynGsDK7IhrpW+dDVgEu"
    },
    "kernelspec": {
      "name": "python3",
      "display_name": "Python 3"
    },
    "language_info": {
      "name": "python"
    }
  },
  "cells": [
    {
      "cell_type": "code",
      "source": [
        "pip install pycryptodome"
      ],
      "metadata": {
        "colab": {
          "base_uri": "https://localhost:8080/"
        },
        "id": "jyEVn7iN1D7B",
        "outputId": "87c80740-f4e0-47f7-ca4d-2547e3db0512"
      },
      "execution_count": null,
      "outputs": [
        {
          "output_type": "stream",
          "name": "stdout",
          "text": [
            "Collecting pycryptodome\n",
            "  Downloading pycryptodome-3.19.0-cp35-abi3-manylinux_2_17_x86_64.manylinux2014_x86_64.whl (2.1 MB)\n",
            "\u001b[?25l     \u001b[90m━━━━━━━━━━━━━━━━━━━━━━━━━━━━━━━━━━━━━━━━\u001b[0m \u001b[32m0.0/2.1 MB\u001b[0m \u001b[31m?\u001b[0m eta \u001b[36m-:--:--\u001b[0m\r\u001b[2K     \u001b[91m━━\u001b[0m\u001b[90m╺\u001b[0m\u001b[90m━━━━━━━━━━━━━━━━━━━━━━━━━━━━━━━━━━━━━\u001b[0m \u001b[32m0.1/2.1 MB\u001b[0m \u001b[31m3.5 MB/s\u001b[0m eta \u001b[36m0:00:01\u001b[0m\r\u001b[2K     \u001b[91m━━━━━━━━━━━\u001b[0m\u001b[91m╸\u001b[0m\u001b[90m━━━━━━━━━━━━━━━━━━━━━━━━━━━━\u001b[0m \u001b[32m0.6/2.1 MB\u001b[0m \u001b[31m9.6 MB/s\u001b[0m eta \u001b[36m0:00:01\u001b[0m\r\u001b[2K     \u001b[91m━━━━━━━━━━━━━━━━━━━━━━━━━━━━━━━━━━━━━━━\u001b[0m\u001b[91m╸\u001b[0m \u001b[32m2.1/2.1 MB\u001b[0m \u001b[31m23.9 MB/s\u001b[0m eta \u001b[36m0:00:01\u001b[0m\r\u001b[2K     \u001b[90m━━━━━━━━━━━━━━━━━━━━━━━━━━━━━━━━━━━━━━━━\u001b[0m \u001b[32m2.1/2.1 MB\u001b[0m \u001b[31m19.1 MB/s\u001b[0m eta \u001b[36m0:00:00\u001b[0m\n",
            "\u001b[?25hInstalling collected packages: pycryptodome\n",
            "Successfully installed pycryptodome-3.19.0\n"
          ]
        }
      ]
    },
    {
      "cell_type": "code",
      "source": [
        "from Crypto.Hash import keccak\n",
        "\n",
        "def gerar_hash_keccak256(indice_candidato, segredo):\n",
        "    # Concatenar o índice do candidato (convertido para string) com o segredo\n",
        "    dados = str(indice_candidato) + segredo\n",
        "    dados_bytes = dados.encode()\n",
        "\n",
        "    # Criar um novo objeto keccak e aplicar o keccak256\n",
        "    keccak_hash = keccak.new(digest_bits=256)\n",
        "    keccak_hash.update(dados_bytes)\n",
        "\n",
        "    # Retornar o hash em formato hexadecimal\n",
        "    return \"0x\" + keccak_hash.hexdigest()\n",
        "\n",
        "# Teste com um índice de candidato e um segredo\n",
        "indice_candidato_exemplo = 1\n",
        "segredo_exemplo = \"minhasenha\"\n",
        "hash_exemplo = gerar_hash_keccak256(indice_candidato_exemplo, segredo_exemplo)\n",
        "print(hash_exemplo)\n"
      ],
      "metadata": {
        "colab": {
          "base_uri": "https://localhost:8080/"
        },
        "id": "BMwvp1kp7xvt",
        "outputId": "61a3fe99-3916-493f-8fd7-1eb34354a1c6"
      },
      "execution_count": null,
      "outputs": [
        {
          "output_type": "stream",
          "name": "stdout",
          "text": [
            "0xefe3b9821433296c02eb302f7e7069c7dba40626dd97ebbda626baa521151eff\n"
          ]
        }
      ]
    },
    {
      "cell_type": "code",
      "source": [
        "from Crypto.Hash import keccak\n",
        "\n",
        "def gerar_hash_keccak256(indice_candidato, segredo):\n",
        "    # Concatenar o índice do candidato (convertido para string) com o segredo\n",
        "    dados = str(indice_candidato) + segredo\n",
        "    dados_bytes = dados.encode()\n",
        "\n",
        "    # Criar um novo objeto keccak e aplicar o keccak256\n",
        "    keccak_hash = keccak.new(digest_bits=256)\n",
        "    keccak_hash.update(dados_bytes)\n",
        "\n",
        "    # Retornar o hash em formato hexadecimal\n",
        "    return \"0x\" + keccak_hash.hexdigest()\n",
        "\n",
        "# Teste com um índice de candidato e um segredo\n",
        "indice_candidato_exemplo = 0\n",
        "segredo_exemplo = \"minhasenha\"\n",
        "hash_exemplo = gerar_hash_keccak256(indice_candidato_exemplo, segredo_exemplo)\n",
        "print(hash_exemplo)"
      ],
      "metadata": {
        "colab": {
          "base_uri": "https://localhost:8080/"
        },
        "id": "Za5wmE2QHKuG",
        "outputId": "d701acbb-5f54-4e13-b588-34fe30147859"
      },
      "execution_count": null,
      "outputs": [
        {
          "output_type": "stream",
          "name": "stdout",
          "text": [
            "0xaea794e3b5ea39150708d6d0388708a33a9bb10615b13516f9b4ddf4c24fdb4b\n"
          ]
        }
      ]
    }
  ]
}